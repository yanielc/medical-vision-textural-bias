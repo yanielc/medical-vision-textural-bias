{
 "cells": [
  {
   "cell_type": "code",
   "execution_count": 1,
   "id": "affected-photograph",
   "metadata": {},
   "outputs": [
    {
     "name": "stdout",
     "output_type": "stream",
     "text": [
      "root_dir /vol/bitbucket/yc7620/90_data/52_MONAI_DATA_DIRECTORY/\n",
      "MONAI version: 0.5.dev2113\n",
      "Numpy version: 1.19.2\n",
      "Pytorch version: 1.8.0\n",
      "MONAI flags: HAS_EXT = False, USE_COMPILED = False\n",
      "MONAI rev id: b3cc668c924b2a7e6b822416f4d920a098c27704\n",
      "\n",
      "Optional dependencies:\n",
      "Pytorch Ignite version: 0.4.4\n",
      "Nibabel version: 3.2.1\n",
      "scikit-image version: 0.17.2\n",
      "Pillow version: 8.1.2\n",
      "Tensorboard version: 1.15.0\n",
      "gdown version: 3.12.2\n",
      "TorchVision version: 0.9.0\n",
      "ITK version: NOT INSTALLED or UNKNOWN VERSION.\n",
      "tqdm version: 4.50.2\n",
      "lmdb version: NOT INSTALLED or UNKNOWN VERSION.\n",
      "psutil version: NOT INSTALLED or UNKNOWN VERSION.\n",
      "\n",
      "For details about installing the optional dependencies, please visit:\n",
      "    https://docs.monai.io/en/latest/installation.html#installing-the-recommended-dependencies\n",
      "\n"
     ]
    }
   ],
   "source": [
    "import os\n",
    "import shutil\n",
    "import tempfile\n",
    "\n",
    "import matplotlib.pyplot as plt\n",
    "import numpy as np\n",
    "from monai.apps import DecathlonDataset\n",
    "from monai.config import print_config\n",
    "from monai.data import DataLoader\n",
    "from monai.losses import DiceLoss\n",
    "from monai.metrics import DiceMetric\n",
    "from monai.networks.nets import UNet\n",
    "from monai.transforms import (\n",
    "    Activations,\n",
    "    AsChannelFirstd,\n",
    "    AsDiscrete,\n",
    "    CenterSpatialCropd,\n",
    "    Compose,\n",
    "    LoadImaged,\n",
    "    MapTransform,\n",
    "    NormalizeIntensityd,\n",
    "    Orientationd,\n",
    "    RandFlipd,\n",
    "    RandScaleIntensityd,\n",
    "    RandShiftIntensityd,\n",
    "    RandSpatialCropd,\n",
    "    Spacingd,\n",
    "    ToTensord,\n",
    ")\n",
    "from monai.utils import set_determinism\n",
    "\n",
    "import torch\n",
    "from torch.utils.data import random_split\n",
    "from tqdm import tqdm\n",
    "\n",
    "############################################\n",
    "# Local imports\n",
    "\n",
    "SOURCE_CODE_PATH = '/homes/yc7620/Documents/medical-vision-textural-bias/90_source_code/'\n",
    "import sys\n",
    "sys.path.append(SOURCE_CODE_PATH)\n",
    "\n",
    "from filters_and_operators import RandFourierDiskMaskd\n",
    "from utils import show_slice_and_fourier, model_evaluation\n",
    "#############################################\n",
    "\n",
    "# set determinism for reproducibility\n",
    "set_determinism(seed=0)\n",
    "\n",
    "\n",
    "root_dir = '/vol/bitbucket/yc7620/90_data/52_MONAI_DATA_DIRECTORY/'\n",
    "print('root_dir', root_dir)\n",
    "print_config()\n",
    "\n",
    "device = torch.device(\"cuda:0\")"
   ]
  },
  {
   "cell_type": "code",
   "execution_count": 2,
   "id": "surface-winning",
   "metadata": {},
   "outputs": [],
   "source": [
    "baseline = model_evaluation('best_metric_model_baseline.pth', 'baseline model')"
   ]
  },
  {
   "cell_type": "code",
   "execution_count": 5,
   "id": "occasional-light",
   "metadata": {},
   "outputs": [],
   "source": [
    "baseline.load_dict('baseline model.pickle')"
   ]
  },
  {
   "cell_type": "code",
   "execution_count": 6,
   "id": "listed-symphony",
   "metadata": {},
   "outputs": [
    {
     "data": {
      "text/plain": [
       "defaultdict(list,\n",
       "            {'baseline_data': (0.7432693392038345,\n",
       "              0.5489715797205766,\n",
       "              0.7797949202358723,\n",
       "              0.9010415002703667),\n",
       "             'planes12_data': (0.7370974471171697,\n",
       "              0.5435882521172365,\n",
       "              0.77201022580266,\n",
       "              0.895693858464559),\n",
       "             'planes14_data': (0.657578976203998,\n",
       "              0.4641460521767537,\n",
       "              0.6879839698473612,\n",
       "              0.8206069221099218),\n",
       "             'planes15_data': (0.5790387243032455,\n",
       "              0.37668504131337005,\n",
       "              0.596923024704059,\n",
       "              0.7635081137220064),\n",
       "             'planes16_data': (0.2329209834958116,\n",
       "              0.08787122290717282,\n",
       "              0.21003801003098488,\n",
       "              0.4008537183205287),\n",
       "             'planes16.5_data': (0.06091170820097128,\n",
       "              0.010986422547224114,\n",
       "              0.039424011503191046,\n",
       "              0.13232469054249427),\n",
       "             'planes17_data': (0.015956512947620165,\n",
       "              0.0026815464910517526,\n",
       "              0.0075759726420680336,\n",
       "              0.03761201998410494)})"
      ]
     },
     "execution_count": 6,
     "metadata": {},
     "output_type": "execute_result"
    }
   ],
   "source": [
    "baseline.eval_dict"
   ]
  },
  {
   "cell_type": "code",
   "execution_count": 14,
   "id": "nonprofit-warning",
   "metadata": {},
   "outputs": [
    {
     "data": {
      "text/plain": [
       "__main__.foo"
      ]
     },
     "execution_count": 14,
     "metadata": {},
     "output_type": "execute_result"
    }
   ],
   "source": [
    "bar.__class__"
   ]
  },
  {
   "cell_type": "code",
   "execution_count": 15,
   "id": "pleased-north",
   "metadata": {},
   "outputs": [],
   "source": [
    "def save_obj(obj):\n",
    "    return (obj.__class__, obj.__dict__)"
   ]
  },
  {
   "cell_type": "code",
   "execution_count": 17,
   "id": "above-island",
   "metadata": {},
   "outputs": [],
   "source": [
    "a =save_obj(bar)"
   ]
  },
  {
   "cell_type": "code",
   "execution_count": 19,
   "id": "central-mechanics",
   "metadata": {},
   "outputs": [
    {
     "data": {
      "text/plain": [
       "dict"
      ]
     },
     "execution_count": 19,
     "metadata": {},
     "output_type": "execute_result"
    }
   ],
   "source": [
    "type(a[1])"
   ]
  },
  {
   "cell_type": "code",
   "execution_count": 34,
   "id": "intensive-agriculture",
   "metadata": {},
   "outputs": [],
   "source": [
    "with open('bar_pickle','wb') as f:\n",
    "    pickle.dump(bar, f)"
   ]
  },
  {
   "cell_type": "code",
   "execution_count": 3,
   "id": "portable-store",
   "metadata": {},
   "outputs": [],
   "source": [
    "with open('bar_pickle','rb') as f:\n",
    "    bar_3 = pickle.load(f)"
   ]
  },
  {
   "cell_type": "code",
   "execution_count": 4,
   "id": "chronic-nowhere",
   "metadata": {},
   "outputs": [
    {
     "name": "stdout",
     "output_type": "stream",
     "text": [
      "{'a': 1, 'b': {'x': 2, 'y': 2, 'z': 3}}\n"
     ]
    }
   ],
   "source": [
    "bar_3.p()"
   ]
  },
  {
   "cell_type": "code",
   "execution_count": 28,
   "id": "norwegian-leisure",
   "metadata": {},
   "outputs": [
    {
     "data": {
      "text/plain": [
       "{'a': 1, 'b': {'x': 2, 'y': 2, 'z': 3}}"
      ]
     },
     "execution_count": 28,
     "metadata": {},
     "output_type": "execute_result"
    }
   ],
   "source": [
    "bar_2.__dict__"
   ]
  },
  {
   "cell_type": "code",
   "execution_count": 1,
   "id": "increasing-drill",
   "metadata": {},
   "outputs": [],
   "source": [
    "import pickle"
   ]
  },
  {
   "cell_type": "code",
   "execution_count": 2,
   "id": "executed-nightmare",
   "metadata": {},
   "outputs": [],
   "source": [
    "from foobar import foo"
   ]
  },
  {
   "cell_type": "code",
   "execution_count": 5,
   "id": "valued-casting",
   "metadata": {},
   "outputs": [],
   "source": [
    "a = dict([('a',1),('b',2)])\n",
    "b = dict([('a',10),('b',20)])\n",
    "a.update(b)"
   ]
  },
  {
   "cell_type": "code",
   "execution_count": 6,
   "id": "changing-confidentiality",
   "metadata": {},
   "outputs": [
    {
     "data": {
      "text/plain": [
       "{'a': 10, 'b': 20}"
      ]
     },
     "execution_count": 6,
     "metadata": {},
     "output_type": "execute_result"
    }
   ],
   "source": [
    "a"
   ]
  },
  {
   "cell_type": "code",
   "execution_count": null,
   "id": "subsequent-conversion",
   "metadata": {},
   "outputs": [],
   "source": []
  }
 ],
 "metadata": {
  "kernelspec": {
   "display_name": "Python 3",
   "language": "python",
   "name": "python3"
  },
  "language_info": {
   "codemirror_mode": {
    "name": "ipython",
    "version": 3
   },
   "file_extension": ".py",
   "mimetype": "text/x-python",
   "name": "python",
   "nbconvert_exporter": "python",
   "pygments_lexer": "ipython3",
   "version": "3.8.8"
  }
 },
 "nbformat": 4,
 "nbformat_minor": 5
}
