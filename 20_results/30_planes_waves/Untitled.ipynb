{
 "cells": [
  {
   "cell_type": "code",
   "execution_count": 3,
   "id": "royal-survey",
   "metadata": {},
   "outputs": [],
   "source": [
    "class foo():\n",
    "    \n",
    "    def __init__(self):\n",
    "\n",
    "        self.a = 1\n",
    "        self.b = dict([('x',2),('y',2),('z',3)])\n",
    "    def p(self):\n",
    "        print(self.__dict__)\n",
    "        "
   ]
  },
  {
   "cell_type": "code",
   "execution_count": 33,
   "id": "subjective-shooting",
   "metadata": {},
   "outputs": [
    {
     "name": "stdout",
     "output_type": "stream",
     "text": [
      "{'a': 1, 'b': {'x': 2, 'y': 2, 'z': 3}}\n"
     ]
    }
   ],
   "source": [
    "bar = foo()\n",
    "bar.p()"
   ]
  },
  {
   "cell_type": "code",
   "execution_count": 6,
   "id": "macro-community",
   "metadata": {},
   "outputs": [
    {
     "data": {
      "text/plain": [
       "{'a': 1, 'b': {'x': 2, 'y': 2, 'z': 3}}"
      ]
     },
     "execution_count": 6,
     "metadata": {},
     "output_type": "execute_result"
    }
   ],
   "source": [
    "bar.__dict__"
   ]
  },
  {
   "cell_type": "code",
   "execution_count": 13,
   "id": "narrow-briefing",
   "metadata": {},
   "outputs": [
    {
     "data": {
      "text/plain": [
       "b'\\x80\\x04\\x95<\\x00\\x00\\x00\\x00\\x00\\x00\\x00\\x8c\\x08__main__\\x94\\x8c\\x03foo\\x94\\x93\\x94)\\x81\\x94}\\x94(\\x8c\\x01a\\x94K\\x01\\x8c\\x01b\\x94}\\x94(\\x8c\\x01x\\x94K\\x02\\x8c\\x01y\\x94K\\x02\\x8c\\x01z\\x94K\\x03uub.'"
      ]
     },
     "execution_count": 13,
     "metadata": {},
     "output_type": "execute_result"
    }
   ],
   "source": [
    "pickle.dumps(bar)"
   ]
  },
  {
   "cell_type": "code",
   "execution_count": 14,
   "id": "banned-truck",
   "metadata": {},
   "outputs": [
    {
     "data": {
      "text/plain": [
       "__main__.foo"
      ]
     },
     "execution_count": 14,
     "metadata": {},
     "output_type": "execute_result"
    }
   ],
   "source": [
    "bar.__class__"
   ]
  },
  {
   "cell_type": "code",
   "execution_count": 15,
   "id": "similar-attack",
   "metadata": {},
   "outputs": [],
   "source": [
    "def save_obj(obj):\n",
    "    return (obj.__class__, obj.__dict__)"
   ]
  },
  {
   "cell_type": "code",
   "execution_count": 17,
   "id": "spatial-magnitude",
   "metadata": {},
   "outputs": [],
   "source": [
    "a =save_obj(bar)"
   ]
  },
  {
   "cell_type": "code",
   "execution_count": 19,
   "id": "unlike-stomach",
   "metadata": {},
   "outputs": [
    {
     "data": {
      "text/plain": [
       "dict"
      ]
     },
     "execution_count": 19,
     "metadata": {},
     "output_type": "execute_result"
    }
   ],
   "source": [
    "type(a[1])"
   ]
  },
  {
   "cell_type": "code",
   "execution_count": 34,
   "id": "roman-drunk",
   "metadata": {},
   "outputs": [],
   "source": [
    "with open('bar_pickle','wb') as f:\n",
    "    pickle.dump(bar, f)"
   ]
  },
  {
   "cell_type": "code",
   "execution_count": 3,
   "id": "perceived-algorithm",
   "metadata": {},
   "outputs": [],
   "source": [
    "with open('bar_pickle','rb') as f:\n",
    "    bar_3 = pickle.load(f)"
   ]
  },
  {
   "cell_type": "code",
   "execution_count": 4,
   "id": "detected-bulletin",
   "metadata": {},
   "outputs": [
    {
     "name": "stdout",
     "output_type": "stream",
     "text": [
      "{'a': 1, 'b': {'x': 2, 'y': 2, 'z': 3}}\n"
     ]
    }
   ],
   "source": [
    "bar_3.p()"
   ]
  },
  {
   "cell_type": "code",
   "execution_count": 28,
   "id": "spare-cornwall",
   "metadata": {},
   "outputs": [
    {
     "data": {
      "text/plain": [
       "{'a': 1, 'b': {'x': 2, 'y': 2, 'z': 3}}"
      ]
     },
     "execution_count": 28,
     "metadata": {},
     "output_type": "execute_result"
    }
   ],
   "source": [
    "bar_2.__dict__"
   ]
  },
  {
   "cell_type": "code",
   "execution_count": 1,
   "id": "numerical-grenada",
   "metadata": {},
   "outputs": [],
   "source": [
    "import pickle"
   ]
  },
  {
   "cell_type": "code",
   "execution_count": 2,
   "id": "expired-estonia",
   "metadata": {},
   "outputs": [],
   "source": [
    "from foobar import foo"
   ]
  },
  {
   "cell_type": "code",
   "execution_count": 5,
   "id": "numerical-corporation",
   "metadata": {},
   "outputs": [],
   "source": [
    "a = dict([('a',1),('b',2)])\n",
    "b = dict([('a',10),('b',20)])\n",
    "a.update(b)"
   ]
  },
  {
   "cell_type": "code",
   "execution_count": 6,
   "id": "smart-glenn",
   "metadata": {},
   "outputs": [
    {
     "data": {
      "text/plain": [
       "{'a': 10, 'b': 20}"
      ]
     },
     "execution_count": 6,
     "metadata": {},
     "output_type": "execute_result"
    }
   ],
   "source": [
    "a"
   ]
  },
  {
   "cell_type": "code",
   "execution_count": null,
   "id": "unlike-supervisor",
   "metadata": {},
   "outputs": [],
   "source": []
  }
 ],
 "metadata": {
  "kernelspec": {
   "display_name": "Python 3",
   "language": "python",
   "name": "python3"
  },
  "language_info": {
   "codemirror_mode": {
    "name": "ipython",
    "version": 3
   },
   "file_extension": ".py",
   "mimetype": "text/x-python",
   "name": "python",
   "nbconvert_exporter": "python",
   "pygments_lexer": "ipython3",
   "version": "3.8.8"
  }
 },
 "nbformat": 4,
 "nbformat_minor": 5
}
